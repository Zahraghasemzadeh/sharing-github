{
 "cells": [
  {
   "cell_type": "code",
   "execution_count": 1,
   "id": "50cde8a4",
   "metadata": {},
   "outputs": [],
   "source": [
    "class ModifiedMergeSort:\n",
    "    def __init__ (self,data):\n",
    "        self.data = data\n",
    "        self.pieces = []\n",
    "    \n",
    "    def make_atoms(self):\n",
    "        for i in (self.data):\n",
    "            self.pieces.append([i])\n",
    "        self.combine()    \n",
    "        \n",
    "    \n",
    "    def combine(self):\n",
    "        self.updated_pieces =[]  \n",
    "        \n",
    "        if len(self.pieces) % 2 != 0:\n",
    "            self.pieces.append(self.pieces[-1])\n",
    "   \n",
    "\n",
    "        for i in range (0, len(self.pieces), 2):\n",
    "            self.subpiece_sort( [self.pieces[i], self.pieces[i+1]])\n",
    "        \n",
    "        self.pieces =self.updated_pieces\n",
    "        \n",
    "        \n",
    "        if len(self.pieces) != 1:\n",
    "            self.combine()\n",
    "            \n",
    "    def subpiece_sort(self,subpiece):\n",
    "        out =[]\n",
    "        print(subpiece)\n",
    "        left = subpiece[0]\n",
    "        right = subpiece[1]\n",
    "        i = j =0\n",
    "        while (i < len(left)  and j <len(right) ):\n",
    "            if left[i] < right[j]:\n",
    "                out.append(left[i])\n",
    "                i = i+1\n",
    "                \n",
    "            else:\n",
    "                out.append(right[j])\n",
    "                j = j+1\n",
    "  \n",
    "        out.extend(left[i:])\n",
    "        out.extend(right[j:])\n",
    "        print(out)\n",
    "        self.updated_pieces.append(out)\n",
    "        \n",
    "    def sorting(self):\n",
    "        if self.data == []:\n",
    "            return self.data\n",
    "        else:\n",
    "            self.make_atoms()\n",
    "        return (self.pieces[0])\n",
    "            "
   ]
  },
  {
   "cell_type": "code",
   "execution_count": 168,
   "id": "448d5819",
   "metadata": {},
   "outputs": [
    {
     "name": "stdout",
     "output_type": "stream",
     "text": [
      "[[8], [3]]\n",
      "[3, 8]\n",
      "[[2], [7]]\n",
      "[2, 7]\n",
      "[[3, 8], [2, 7]]\n",
      "[[3, 8], [2, 7]]\n",
      "[2, 3, 7, 8]\n",
      "[[2, 3, 7, 8]]\n"
     ]
    },
    {
     "data": {
      "text/plain": [
       "[2, 3, 7, 8]"
      ]
     },
     "execution_count": 168,
     "metadata": {},
     "output_type": "execute_result"
    }
   ],
   "source": [
    "M = ModifiedMergeSort([8, 3,2,7])\n",
    "#M.make_atoms()\n",
    "M.sorting()"
   ]
  },
  {
   "cell_type": "code",
   "execution_count": 171,
   "id": "6810c190",
   "metadata": {},
   "outputs": [],
   "source": [
    "class BinarySearch:\n",
    "    def __init__(self,data):\n",
    "        self.data = data\n",
    "    def search(self,val):\n",
    "        if val in self.data:\n",
    "            return True\n",
    "        else:\n",
    "            return False"
   ]
  },
  {
   "cell_type": "code",
   "execution_count": 174,
   "id": "a9472edc",
   "metadata": {},
   "outputs": [
    {
     "data": {
      "text/plain": [
       "True"
      ]
     },
     "execution_count": 174,
     "metadata": {},
     "output_type": "execute_result"
    }
   ],
   "source": [
    "B = BinarySearch([2, 3, 7, 8])\n",
    "B.search(2)"
   ]
  },
  {
   "cell_type": "code",
   "execution_count": null,
   "id": "1f96e8e0",
   "metadata": {},
   "outputs": [],
   "source": []
  }
 ],
 "metadata": {
  "kernelspec": {
   "display_name": "Python 3 (ipykernel)",
   "language": "python",
   "name": "python3"
  },
  "language_info": {
   "codemirror_mode": {
    "name": "ipython",
    "version": 3
   },
   "file_extension": ".py",
   "mimetype": "text/x-python",
   "name": "python",
   "nbconvert_exporter": "python",
   "pygments_lexer": "ipython3",
   "version": "3.9.15"
  }
 },
 "nbformat": 4,
 "nbformat_minor": 5
}
