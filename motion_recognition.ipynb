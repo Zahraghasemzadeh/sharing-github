{
  "cells": [
    {
      "cell_type": "code",
      "execution_count": null,
      "metadata": {
        "id": "rL7girh8tqEQ"
      },
      "outputs": [],
      "source": [
        "import numpy as np\n",
        "import matplotlib.pyplot as plt\n",
        "import pandas as pd\n",
        "from tensorflow.keras.models import Sequential\n",
        "from tensorflow.keras.layers import Dense, LSTM,GRU,SimpleRNN\n",
        "from sklearn.preprocessing import MinMaxScaler\n",
        "import tensorflow as tf\n",
        "from tensorflow import keras, one_hot\n",
        "from tensorflow.keras import layers\n",
        "import matplotlib.pyplot as plt"
      ]
    },
    {
      "cell_type": "code",
      "execution_count": null,
      "metadata": {
        "id": "Z_OgxqCosdbU",
        "colab": {
          "base_uri": "https://localhost:8080/"
        },
        "outputId": "a31edff0-5a73-4d27-b09c-6e9eb4a0bb0c"
      },
      "outputs": [
        {
          "output_type": "stream",
          "name": "stdout",
          "text": [
            "Mounted at /content/gdrive\n"
          ]
        }
      ],
      "source": [
        "from google.colab import drive \n",
        "drive.mount('/content/gdrive')"
      ]
    },
    {
      "cell_type": "code",
      "execution_count": null,
      "metadata": {
        "id": "sxyGU4_uthuB"
      },
      "outputs": [],
      "source": [
        "LABELS = {\n",
        "    0: 'SITTING',\n",
        "    1: 'RUNNING',\n",
        "    2: 'WALKING',\n",
        "}"
      ]
    },
    {
      "cell_type": "code",
      "execution_count": null,
      "metadata": {
        "id": "5PgH8nNGwZgc"
      },
      "outputs": [],
      "source": [
        "running_1=pd.read_csv('/content/gdrive/MyDrive/running 1.csv')\n",
        "walking_1=pd.read_csv('/content/gdrive/MyDrive/walking 1.csv')\n",
        "laying_1=pd.read_csv('/content/gdrive/MyDrive/sitting 1.csv')"
      ]
    },
    {
      "cell_type": "code",
      "source": [
        "running_1=(running_1-running_1.min())/(running_1.max()-running_1.min())\n",
        "walking_1=(walking_1-walking_1.min())/(walking_1.max()-walking_1.min())\n",
        "laying_1=(laying_1-laying_1.min())/(laying_1.max()-laying_1.min())"
      ],
      "metadata": {
        "id": "VCeEMotruej4"
      },
      "execution_count": null,
      "outputs": []
    },
    {
      "cell_type": "code",
      "execution_count": null,
      "metadata": {
        "id": "2lnLuW0jZskY"
      },
      "outputs": [],
      "source": [
        "target_laying_1 = np.zeros( (12000, 1) , dtype=np.int32)\n",
        "laying_1['target'] = target_laying_1"
      ]
    },
    {
      "cell_type": "code",
      "source": [
        "target_walking_1 = np.ones( (12000, 1) , dtype=np.int32)*2\n",
        "walking_1['target'] = target_walking_1"
      ],
      "metadata": {
        "id": "gAeLn7ztuxWn"
      },
      "execution_count": null,
      "outputs": []
    },
    {
      "cell_type": "code",
      "source": [
        "target_running_1 = np.ones( (12000, 1) , dtype=np.int32)\n",
        "running_1['target'] = target_running_1"
      ],
      "metadata": {
        "id": "nAmDH-PMvCUv"
      },
      "execution_count": null,
      "outputs": []
    },
    {
      "cell_type": "code",
      "source": [
        "# prepering test dataset\n",
        "laying_2=pd.read_csv('/content/gdrive/MyDrive/sitting 2.csv')\n",
        "laying_2 = laying_2.iloc[:12000,]"
      ],
      "metadata": {
        "id": "yX1P06RpvXd5"
      },
      "execution_count": null,
      "outputs": []
    },
    {
      "cell_type": "code",
      "source": [
        "running_2 = pd.read_csv('/content/gdrive/MyDrive/running 2.csv')\n",
        "running_2 = running_2.iloc[:12000,]"
      ],
      "metadata": {
        "id": "sor5yLu8v44n"
      },
      "execution_count": null,
      "outputs": []
    },
    {
      "cell_type": "code",
      "source": [
        "walking_2 = pd.read_csv('/content/gdrive/MyDrive/walking 2.csv')\n",
        "walking_2 = walking_2.iloc[:12000,]"
      ],
      "metadata": {
        "id": "W7La5yp_wNZm"
      },
      "execution_count": null,
      "outputs": []
    },
    {
      "cell_type": "code",
      "source": [
        "running_2=(running_2-running_2.min())/(running_2.max()-running_2.min())\n",
        "walking_2=(walking_2-walking_2.min())/(walking_2.max()-walking_2.min())\n",
        "laying_2=(laying_2-laying_2.min())/(laying_2.max()-laying_2.min())"
      ],
      "metadata": {
        "id": "sAlla3Jcv2yI"
      },
      "execution_count": null,
      "outputs": []
    },
    {
      "cell_type": "code",
      "execution_count": null,
      "metadata": {
        "id": "9EWaQJWK0gPO"
      },
      "outputs": [],
      "source": [
        "laying_2['target'] = target_laying_1"
      ]
    },
    {
      "cell_type": "code",
      "source": [
        "running_2['target'] = target_running_1"
      ],
      "metadata": {
        "id": "CMm8_QGwvh85"
      },
      "execution_count": null,
      "outputs": []
    },
    {
      "cell_type": "code",
      "source": [
        "walking_2['target'] = target_walking_1"
      ],
      "metadata": {
        "id": "apjm8xf2vszf"
      },
      "execution_count": null,
      "outputs": []
    },
    {
      "cell_type": "code",
      "source": [
        "print(running_2.shape, walking_2.shape, laying_2.shape, laying_1.shape, walking_1.shape, running_1.shape)"
      ],
      "metadata": {
        "colab": {
          "base_uri": "https://localhost:8080/"
        },
        "id": "a5ljVo5w2yUe",
        "outputId": "f5c46ebb-d79d-4e47-fd4a-1b65b3f42d98"
      },
      "execution_count": null,
      "outputs": [
        {
          "output_type": "stream",
          "name": "stdout",
          "text": [
            "(12000, 5) (12000, 5) (12000, 5) (12000, 5) (12000, 5) (12000, 5)\n"
          ]
        }
      ]
    },
    {
      "cell_type": "code",
      "source": [
        "plt.plot(running_2)"
      ],
      "metadata": {
        "colab": {
          "base_uri": "https://localhost:8080/",
          "height": 352
        },
        "id": "YkAZWRossWmQ",
        "outputId": "915e7a5c-ed85-4693-a1f7-176ce2d63c02"
      },
      "execution_count": null,
      "outputs": [
        {
          "output_type": "execute_result",
          "data": {
            "text/plain": [
              "[<matplotlib.lines.Line2D at 0x7f1ab0bbd1d0>,\n",
              " <matplotlib.lines.Line2D at 0x7f1ab0b63910>,\n",
              " <matplotlib.lines.Line2D at 0x7f1ab0b63ad0>,\n",
              " <matplotlib.lines.Line2D at 0x7f1ab0b63c90>,\n",
              " <matplotlib.lines.Line2D at 0x7f1ab0b63e50>]"
            ]
          },
          "metadata": {},
          "execution_count": 17
        },
        {
          "output_type": "display_data",
          "data": {
            "text/plain": [
              "<Figure size 432x288 with 1 Axes>"
            ],
            "image/png": "[encoded data removed]"
          },
          "metadata": {
            "needs_background": "light"
          }
        }
      ]
    },
    {
      "cell_type": "code",
      "source": [
        "plt.plot(running_1)"
      ],
      "metadata": {
        "colab": {
          "base_uri": "https://localhost:8080/",
          "height": 352
        },
        "id": "XIxVrdOguUZo",
        "outputId": "463df51f-f132-4542-8095-ce94533cfcc6"
      },
      "execution_count": null,
      "outputs": [
        {
          "output_type": "execute_result",
          "data": {
            "text/plain": [
              "[<matplotlib.lines.Line2D at 0x7f1ab0aadd10>,\n",
              " <matplotlib.lines.Line2D at 0x7f1ab06599d0>,\n",
              " <matplotlib.lines.Line2D at 0x7f1ab0659b90>,\n",
              " <matplotlib.lines.Line2D at 0x7f1ab0659d50>,\n",
              " <matplotlib.lines.Line2D at 0x7f1ab0659f10>]"
            ]
          },
          "metadata": {},
          "execution_count": 18
        },
        {
          "output_type": "display_data",
          "data": {
            "text/plain": [
              "<Figure size 432x288 with 1 Axes>"
            ],
            "image/png": "[encoded data removed]"
          },
          "metadata": {
            "needs_background": "light"
          }
        }
      ]
    },
    {
      "cell_type": "code",
      "source": [
        "plt.plot(laying_1)"
      ],
      "metadata": {
        "colab": {
          "base_uri": "https://localhost:8080/",
          "height": 352
        },
        "id": "T2VGWlG0xvZx",
        "outputId": "1f637080-936a-40c3-c5a2-fd58d7e6165f"
      },
      "execution_count": null,
      "outputs": [
        {
          "output_type": "execute_result",
          "data": {
            "text/plain": [
              "[<matplotlib.lines.Line2D at 0x7f1ab05dff90>,\n",
              " <matplotlib.lines.Line2D at 0x7f1ab056d210>,\n",
              " <matplotlib.lines.Line2D at 0x7f1ab056d3d0>,\n",
              " <matplotlib.lines.Line2D at 0x7f1ab056d590>,\n",
              " <matplotlib.lines.Line2D at 0x7f1ab056d750>]"
            ]
          },
          "metadata": {},
          "execution_count": 19
        },
        {
          "output_type": "display_data",
          "data": {
            "text/plain": [
              "<Figure size 432x288 with 1 Axes>"
            ],
            "image/png": "[encoded data removed]"
          },
          "metadata": {
            "needs_background": "light"
          }
        }
      ]
    },
    {
      "cell_type": "code",
      "source": [
        "plt.plot(laying_2)"
      ],
      "metadata": {
        "colab": {
          "base_uri": "https://localhost:8080/",
          "height": 352
        },
        "id": "fTSc5edDxzDf",
        "outputId": "17f680fa-40b7-4cce-a4ba-b81e5bdbaa5a"
      },
      "execution_count": null,
      "outputs": [
        {
          "output_type": "execute_result",
          "data": {
            "text/plain": [
              "[<matplotlib.lines.Line2D at 0x7f1ab04ee0d0>,\n",
              " <matplotlib.lines.Line2D at 0x7f1ab04ee310>,\n",
              " <matplotlib.lines.Line2D at 0x7f1ab04ee4d0>,\n",
              " <matplotlib.lines.Line2D at 0x7f1ab04ee690>,\n",
              " <matplotlib.lines.Line2D at 0x7f1ab04ee850>]"
            ]
          },
          "metadata": {},
          "execution_count": 20
        },
        {
          "output_type": "display_data",
          "data": {
            "text/plain": [
              "<Figure size 432x288 with 1 Axes>"
            ],
            "image/png": "[encoded data removed]"
          },
          "metadata": {
            "needs_background": "light"
          }
        }
      ]
    },
    {
      "cell_type": "code",
      "execution_count": null,
      "metadata": {
        "id": "3FmfZxCn_DqU"
      },
      "outputs": [],
      "source": [
        "rate = 250\n",
        "def apply_sample_interval (data):\n",
        "  motion_data = pd.DataFrame()\n",
        "  for i in range (0 , len(data)-3000, 1):\n",
        "    data_subset = data.iloc[i:3100 + i][::rate]\n",
        "    motion_data = motion_data.append(data_subset, ignore_index=True)  \n",
        "  return motion_data \n",
        " "
      ]
    },
    {
      "cell_type": "code",
      "execution_count": null,
      "metadata": {
        "id": "GdaFu9E1_5pj"
      },
      "outputs": [],
      "source": [
        "running_train = apply_sample_interval(running_1)\n",
        "walking_train = apply_sample_interval(walking_1)\n",
        "laying_train = apply_sample_interval(laying_1)"
      ]
    },
    {
      "cell_type": "code",
      "source": [
        "running_test = apply_sample_interval(running_2)\n",
        "walking_test = apply_sample_interval(walking_2)\n",
        "laying_test = apply_sample_interval(laying_2)"
      ],
      "metadata": {
        "id": "OW0bs9nNiZej"
      },
      "execution_count": null,
      "outputs": []
    },
    {
      "cell_type": "code",
      "source": [
        "# number of samples = 13 \n",
        "def getdata(data):\n",
        "    X,Y=[],[]\n",
        "    for i in range(0 , len(data)-13, 13):\n",
        "        X.append(data.iloc[i:i+13 , 1:4] )\n",
        "        Y.append(data.iloc[i , 4] )\n",
        "        #Y.append(data[i,-1:])\n",
        "    Y = tf.one_hot(Y, 3).numpy()    \n",
        "    return np.array(X) ,np.array(Y)"
      ],
      "metadata": {
        "id": "2P5vb9UqiTLx"
      },
      "execution_count": null,
      "outputs": []
    },
    {
      "cell_type": "code",
      "source": [
        "xrun1,yrun1=getdata(running_train)\n",
        "xrun2,yrun2=getdata(running_test)\n",
        "xwalk1,ywalk1=getdata(walking_train)\n",
        "xwalk2,ywalk2=getdata(walking_test)\n",
        "xlay1,ylay1=getdata(laying_train)\n",
        "xlay2,ylay2=getdata(laying_test)\n",
        "\n",
        "#x_train , y_train= getdata(data_total_train)\n",
        "#x_train.shape , y_train.shape"
      ],
      "metadata": {
        "id": "5T9EUA6diWAI"
      },
      "execution_count": null,
      "outputs": []
    },
    {
      "cell_type": "code",
      "source": [
        "print(xrun1.shape,xrun2.shape,ywalk1.shape,ywalk2.shape)"
      ],
      "metadata": {
        "colab": {
          "base_uri": "https://localhost:8080/"
        },
        "id": "eO3sp4DikVJO",
        "outputId": "1f20c252-791d-4327-d6a9-f1772be9be24"
      },
      "execution_count": null,
      "outputs": [
        {
          "output_type": "stream",
          "name": "stdout",
          "text": [
            "(8999, 13, 3) (8999, 13, 3) (8999, 3) (8999, 3)\n"
          ]
        }
      ]
    },
    {
      "cell_type": "code",
      "source": [
        "X_sit=np.concatenate((xlay1,xlay2),axis=0)\n",
        "X_walk=np.concatenate((xwalk1,xwalk2),axis=0)\n",
        "X_run=np.concatenate((xrun1,xrun2),axis=0)\n",
        "print(X_sit.shape,X_walk.shape,X_run.shape)"
      ],
      "metadata": {
        "colab": {
          "base_uri": "https://localhost:8080/"
        },
        "id": "0k8Gljknk_HI",
        "outputId": "d70e80e1-c86f-4768-c669-838352e65c1f"
      },
      "execution_count": null,
      "outputs": [
        {
          "output_type": "stream",
          "name": "stdout",
          "text": [
            "(17998, 13, 3) (17998, 13, 3) (17998, 13, 3)\n"
          ]
        }
      ]
    },
    {
      "cell_type": "code",
      "source": [
        "Y_sit=np.concatenate((ylay1,ylay2),axis=0)\n",
        "\n",
        "Y_walk=np.concatenate((ywalk1,ywalk2),axis=0)\n",
        "\n",
        "Y_run=np.concatenate((yrun1,yrun2),axis=0)\n",
        "\n",
        "print(Y_sit.shape, Y_walk.shape, Y_run.shape)"
      ],
      "metadata": {
        "colab": {
          "base_uri": "https://localhost:8080/"
        },
        "id": "I7rdzTg8lmMA",
        "outputId": "c0ea897f-81ec-40a7-ec50-500ca8542b7a"
      },
      "execution_count": null,
      "outputs": [
        {
          "output_type": "stream",
          "name": "stdout",
          "text": [
            "(17998, 3) (17998, 3) (17998, 3)\n"
          ]
        }
      ]
    },
    {
      "cell_type": "code",
      "source": [
        "Y_run[2000]"
      ],
      "metadata": {
        "colab": {
          "base_uri": "https://localhost:8080/"
        },
        "id": "bdbD9P_Wl7AZ",
        "outputId": "0401258e-b80d-4093-8e78-ea7c23d29de3"
      },
      "execution_count": null,
      "outputs": [
        {
          "output_type": "execute_result",
          "data": {
            "text/plain": [
              "array([0., 1., 0.], dtype=float32)"
            ]
          },
          "metadata": {},
          "execution_count": 29
        }
      ]
    },
    {
      "cell_type": "code",
      "source": [
        "from sklearn.model_selection import train_test_split\n",
        "X_sit_train, X_sit_test, Y_sit_train, Y_sit_test = train_test_split(X_sit, Y_sit, test_size=0.2, random_state=0)\n",
        "X_walk_train, X_walk_test, Y_walk_train, Y_walk_test = train_test_split(X_walk, Y_walk, test_size=0.2, random_state=0)\n",
        "X_run_train, X_run_test, Y_run_train, Y_run_test = train_test_split(X_run, Y_run, test_size=0.2, random_state=0)\n",
        "\n",
        "print(X_sit_train.shape, X_sit_test.shape, Y_walk_train.shape, Y_walk_test.shape, X_run_train.shape, Y_run_test.shape)"
      ],
      "metadata": {
        "colab": {
          "base_uri": "https://localhost:8080/"
        },
        "id": "1QwaIx1PmJwo",
        "outputId": "8ac63192-e9d0-436e-ed46-6d65f9c64127"
      },
      "execution_count": null,
      "outputs": [
        {
          "output_type": "stream",
          "name": "stdout",
          "text": [
            "(14398, 13, 3) (3600, 13, 3) (14398, 3) (3600, 3) (14398, 13, 3) (3600, 3)\n"
          ]
        }
      ]
    },
    {
      "cell_type": "code",
      "source": [
        "X_train= np.concatenate((X_sit_train, X_walk_train, X_run_train), axis=0)\n",
        "X_test=np.concatenate((X_sit_test, X_walk_test, X_run_test), axis=0)\n",
        "Y_train= np.concatenate((Y_sit_train, Y_walk_train, Y_run_train), axis=0)\n",
        "Y_test=np.concatenate((Y_sit_test, Y_walk_test, Y_run_test), axis=0)"
      ],
      "metadata": {
        "id": "K2WhF4uWmTCS"
      },
      "execution_count": null,
      "outputs": []
    },
    {
      "cell_type": "code",
      "source": [
        "X_train[14397]"
      ],
      "metadata": {
        "colab": {
          "base_uri": "https://localhost:8080/"
        },
        "id": "eVCmCQYQ-yBV",
        "outputId": "c74684b3-6c34-41e2-8942-6c3bf4dde1b4"
      },
      "execution_count": null,
      "outputs": [
        {
          "output_type": "execute_result",
          "data": {
            "text/plain": [
              "array([[0.75619871, 0.5690195 , 0.26307028],\n",
              "       [0.75646628, 0.5692639 , 0.26322335],\n",
              "       [0.75637709, 0.5686529 , 0.26204979],\n",
              "       [0.75646628, 0.5692639 , 0.26337642],\n",
              "       [0.75637709, 0.5686529 , 0.26352949],\n",
              "       [0.75682304, 0.56950829, 0.26327437],\n",
              "       [0.75664466, 0.5693861 , 0.26347846],\n",
              "       [0.75673385, 0.5688973 , 0.26276412],\n",
              "       [0.75022297, 0.57549604, 0.26551944],\n",
              "       [0.70765697, 0.57512945, 0.2822109 ],\n",
              "       [0.76004504, 0.57146348, 0.26322335],\n",
              "       [0.75906394, 0.57024149, 0.26281514],\n",
              "       [0.76049099, 0.57024149, 0.26317232]])"
            ]
          },
          "metadata": {},
          "execution_count": 32
        }
      ]
    },
    {
      "cell_type": "code",
      "source": [
        "from tensorflow.keras.models import Sequential\n",
        "from tensorflow.keras.layers import Dense, LSTM,GRU,SimpleRNN\n",
        "model=Sequential()\n",
        "model.add(GRU(20,input_shape=(13,3)))\n",
        "model.add(Dense(4, activation='sigmoid'))\n",
        "model.add(Dense(3, activation='softmax'))\n",
        "model.compile(loss='mean_squared_error',optimizer=tf.keras.optimizers.Adam(learning_rate=0.01),metrics=['accuracy'])\n",
        "model.summary()"
      ],
      "metadata": {
        "id": "CUouqDUP0W2h",
        "colab": {
          "base_uri": "https://localhost:8080/"
        },
        "outputId": "43e16248-db54-48c4-8755-d7c2039d9922"
      },
      "execution_count": null,
      "outputs": [
        {
          "output_type": "stream",
          "name": "stdout",
          "text": [
            "Model: \"sequential\"\n",
            "_________________________________________________________________\n",
            " Layer (type)                Output Shape              Param #   \n",
            "=================================================================\n",
            " gru (GRU)                   (None, 20)                1500      \n",
            "                                                                 \n",
            " dense (Dense)               (None, 4)                 84        \n",
            "                                                                 \n",
            " dense_1 (Dense)             (None, 3)                 15        \n",
            "                                                                 \n",
            "=================================================================\n",
            "Total params: 1,599\n",
            "Trainable params: 1,599\n",
            "Non-trainable params: 0\n",
            "_________________________________________________________________\n"
          ]
        }
      ]
    },
    {
      "cell_type": "code",
      "source": [
        "history = model.fit(X_train, Y_train, batch_size=3, epochs=20)"
      ],
      "metadata": {
        "colab": {
          "base_uri": "https://localhost:8080/"
        },
        "id": "Ev1Q5kGT0qKO",
        "outputId": "d2a20a9f-94af-4c61-c83a-8afef5d2a830"
      },
      "execution_count": null,
      "outputs": [
        {
          "output_type": "stream",
          "name": "stdout",
          "text": [
            "Epoch 1/20\n",
            "14398/14398 [==============================] - 71s 5ms/step - loss: 0.0200 - accuracy: 0.9563\n",
            "Epoch 2/20\n",
            "14398/14398 [==============================] - 77s 5ms/step - loss: 0.0014 - accuracy: 0.9975\n",
            "Epoch 3/20\n",
            "14398/14398 [==============================] - 68s 5ms/step - loss: 0.0080 - accuracy: 0.9866\n",
            "Epoch 4/20\n",
            "14398/14398 [==============================] - 69s 5ms/step - loss: 0.0210 - accuracy: 0.9674\n",
            "Epoch 5/20\n",
            "14398/14398 [==============================] - 68s 5ms/step - loss: 0.0043 - accuracy: 0.9926\n",
            "Epoch 6/20\n",
            "14398/14398 [==============================] - 71s 5ms/step - loss: 0.0116 - accuracy: 0.9753\n",
            "Epoch 7/20\n",
            "14398/14398 [==============================] - 69s 5ms/step - loss: 0.0016 - accuracy: 0.9975\n",
            "Epoch 8/20\n",
            "14398/14398 [==============================] - 68s 5ms/step - loss: 0.0320 - accuracy: 0.9518\n",
            "Epoch 9/20\n",
            "14398/14398 [==============================] - 68s 5ms/step - loss: 0.0130 - accuracy: 0.9802\n",
            "Epoch 10/20\n",
            "14398/14398 [==============================] - 69s 5ms/step - loss: 0.0028 - accuracy: 0.9955\n",
            "Epoch 11/20\n",
            "14398/14398 [==============================] - 67s 5ms/step - loss: 0.0083 - accuracy: 0.9873\n",
            "Epoch 12/20\n",
            "14398/14398 [==============================] - 65s 5ms/step - loss: 0.0133 - accuracy: 0.9795\n",
            "Epoch 13/20\n",
            "14398/14398 [==============================] - 67s 5ms/step - loss: 0.0100 - accuracy: 0.9825\n",
            "Epoch 14/20\n",
            "14398/14398 [==============================] - 66s 5ms/step - loss: 0.0054 - accuracy: 0.9911\n",
            "Epoch 15/20\n",
            "14398/14398 [==============================] - 64s 4ms/step - loss: 0.0290 - accuracy: 0.9496\n",
            "Epoch 16/20\n",
            "14398/14398 [==============================] - 66s 5ms/step - loss: 0.0104 - accuracy: 0.9812\n",
            "Epoch 17/20\n",
            "14398/14398 [==============================] - 69s 5ms/step - loss: 0.0198 - accuracy: 0.9674\n",
            "Epoch 18/20\n",
            "14398/14398 [==============================] - 69s 5ms/step - loss: 0.0685 - accuracy: 0.8830\n",
            "Epoch 19/20\n",
            "14398/14398 [==============================] - 69s 5ms/step - loss: 0.0056 - accuracy: 0.9908\n",
            "Epoch 20/20\n",
            "14398/14398 [==============================] - 67s 5ms/step - loss: 0.0042 - accuracy: 0.9933\n"
          ]
        }
      ]
    },
    {
      "cell_type": "code",
      "source": [
        "model.evaluate(X_test, Y_test)"
      ],
      "metadata": {
        "id": "sERyFKJs05fZ",
        "colab": {
          "base_uri": "https://localhost:8080/"
        },
        "outputId": "8d92e250-ffef-499a-a6c7-95678269abe5"
      },
      "execution_count": null,
      "outputs": [
        {
          "output_type": "stream",
          "name": "stdout",
          "text": [
            "338/338 [==============================] - 2s 3ms/step - loss: 0.0148 - accuracy: 0.9771\n"
          ]
        },
        {
          "output_type": "execute_result",
          "data": {
            "text/plain": [
              "[0.014822572469711304, 0.9771296381950378]"
            ]
          },
          "metadata": {},
          "execution_count": 35
        }
      ]
    },
    {
      "cell_type": "code",
      "source": [
        "tf.keras.utils.plot_model(\n",
        "    model,\n",
        "    to_file=\"model.png\",\n",
        "    show_shapes=True,\n",
        "    show_dtype=True,\n",
        "    show_layer_names=True,\n",
        "    rankdir=\"TB\",\n",
        "    expand_nested=True,\n",
        "    dpi=96,\n",
        "    layer_range=None,\n",
        "    show_layer_activations=True,\n",
        ")"
      ],
      "metadata": {
        "colab": {
          "base_uri": "https://localhost:8080/",
          "height": 545
        },
        "id": "H68oJ6oQxQDM",
        "outputId": "d2e5f170-e549-4876-db11-6c973bcdf2d7"
      },
      "execution_count": null,
      "outputs": [
        {
          "output_type": "execute_result",
          "data": {
            "text/plain": [
              "<IPython.core.display.Image object>"
            ],
            "image/png": "[encoded data removed]"
          },
          "metadata": {},
          "execution_count": 53
        }
      ]
    },
    {
      "cell_type": "code",
      "source": [
        "tf_lite_converter=tf.lite.TFLiteConverter.from_keras_model(model)\n",
        "tf_lite_converter.target_spec.supported_ops = [\n",
        "  tf.lite.OpsSet.TFLITE_BUILTINS, # enable TensorFlow Lite ops.\n",
        "  tf.lite.OpsSet.SELECT_TF_OPS # enable TensorFlow ops.\n",
        "]\n",
        "tflite_model=tf_lite_converter.convert()\n",
        "tflite_model_name='model_name.tflite'\n",
        "\n",
        "open(tflite_model_name,\"wb\").write(tflite_model)"
      ],
      "metadata": {
        "colab": {
          "base_uri": "https://localhost:8080/"
        },
        "id": "6NTZeLFalV5Y",
        "outputId": "5d262fb9-cceb-4393-ee9a-bd2b9a178336"
      },
      "execution_count": null,
      "outputs": [
        {
          "output_type": "stream",
          "name": "stderr",
          "text": [
            "WARNING:absl:Found untraced functions such as gru_cell_layer_call_fn, gru_cell_layer_call_and_return_conditional_losses while saving (showing 2 of 2). These functions will not be directly callable after loading.\n"
          ]
        },
        {
          "output_type": "stream",
          "name": "stdout",
          "text": [
            "INFO:tensorflow:Assets written to: /tmp/tmpl6kfyj79/assets\n"
          ]
        },
        {
          "output_type": "stream",
          "name": "stderr",
          "text": [
            "INFO:tensorflow:Assets written to: /tmp/tmpl6kfyj79/assets\n",
            "WARNING:absl:Buffer deduplication procedure will be skipped when flatbuffer library is not properly loaded\n"
          ]
        },
        {
          "output_type": "execute_result",
          "data": {
            "text/plain": [
              "16592"
            ]
          },
          "metadata": {},
          "execution_count": 36
        }
      ]
    },
    {
      "cell_type": "code",
      "source": [
        "# Load TFLite model and allocate tensors.\n",
        "interpreter = tf.lite.Interpreter(model_content=tflite_model)\n",
        "interpreter.allocate_tensors()\n",
        "\n",
        "# Get input and output tensors.\n",
        "input_details = interpreter.get_input_details()\n",
        "output_details = interpreter.get_output_details()"
      ],
      "metadata": {
        "id": "cPvEKTENGuwm"
      },
      "execution_count": null,
      "outputs": []
    },
    {
      "cell_type": "code",
      "execution_count": null,
      "metadata": {
        "id": "TPDnnrgMPB67"
      },
      "outputs": [],
      "source": [
        "#frames = [laying_train , walking_train, running_train]\n",
        "#data_total_train = pd.concat(frames, ignore_index=True)"
      ]
    }
  ],
  "metadata": {
    "colab": {
      "provenance": []
    },
    "kernelspec": {
      "display_name": "Python 3",
      "name": "python3"
    },
    "language_info": {
      "name": "python"
    }
  },
  "nbformat": 4,
  "nbformat_minor": 0
}